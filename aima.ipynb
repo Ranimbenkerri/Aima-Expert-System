{
 "cells": [
  {
   "cell_type": "code",
   "execution_count": 15,
   "metadata": {},
   "outputs": [
    {
     "name": "stdout",
     "output_type": "stream",
     "text": [
      "[]\n",
      "[]\n",
      "[]\n",
      "[]\n",
      "[]\n",
      "Final diagnosis:\n",
      "SoreThroat(John)\n",
      "RunnyNose(John)\n",
      "Cough(John)\n",
      "Leginjury(John)\n",
      "Cold(John)\n"
     ]
    }
   ],
   "source": [
    "from aima3.utils import expr\n",
    "from aima3.logic import FolKB, fol_fc_ask\n",
    "\n",
    "# Define the knowledge base\n",
    "kb = FolKB()\n",
    "\n",
    "# Define variables\n",
    "x = expr('x')  # Variable representing a person\n",
    "\n",
    "# Add rules to the knowledge base\n",
    "# kb.tell(expr('Fever(x) & Cough(x) ==> Flu(x)'))  # ∀x Fever(x) ∧ Cough(x) ⇒ Flu(x)\n",
    "# kb.tell(expr('Fever(x) & BodyAches(x) & Fatigue(x) ==> Flu(x)'))  # ∀x Fever(x) ∧ BodyAches(x) ∧ Fatigue(x) ⇒ Flu(x)\n",
    "# kb.tell(expr('SoreThroat(x) & RunnyNose(x) ==> Cold(x)'))  # ∀x SoreThroat(x) ∧ RunnyNose(x) ⇒ Cold(x)\n",
    "\n",
    "# Define the agenda\n",
    "agenda = []\n",
    "\n",
    "# Add patient symptoms to the agenda (what user enters when there is an interface (symptoms))\n",
    "patient = expr('John')  # Constant representing a specific patient\n",
    "\n",
    "agenda.append(expr('SoreThroat(John)'))\n",
    "agenda.append(expr('RunnyNose(John)'))\n",
    "\n",
    "# Temporary memory\n",
    "memory = {}\n",
    "\n",
    "# Run the expert system\n",
    "seen = set()  # Keep track of the conditions already processed\n",
    "while agenda:\n",
    "    p = agenda.pop(0)\n",
    "    if p in seen:\n",
    "        continue  # Skip the condition if it has already been processed\n",
    "    seen.add(p)\n",
    "    print(list(fol_fc_ask(kb, p)))\n",
    "    memory[p] = True\n",
    "\n",
    "    # Check if new rules can be activated\n",
    "    if memory.get(expr('Fever(John)'), False) and memory.get(expr('Cough(John)'), False) :\n",
    "        agenda.append(expr('Flu(John)'))\n",
    "    if memory.get(expr('Fever(John)'), False) and memory.get(expr('BodyAches(John)'), False) and memory.get(expr('Fatigue(John)'), False) :\n",
    "        agenda.append(expr('Flu(John)'))\n",
    "    if memory.get(expr('SoreThroat(John)'), False) and memory.get(expr('RunnyNose(John)'), False):\n",
    "        agenda.append(expr('Cold(John)'))\n",
    "\n",
    "# Check the final state of the memory\n",
    "print('Final diagnosis:')\n",
    "for p, value in memory.items():\n",
    "    if value:\n",
    "        print(f'{p}')"
   ]
  }
 ],
 "metadata": {
  "kernelspec": {
   "display_name": "Python 3",
   "language": "python",
   "name": "python3"
  },
  "language_info": {
   "codemirror_mode": {
    "name": "ipython",
    "version": 3
   },
   "file_extension": ".py",
   "mimetype": "text/x-python",
   "name": "python",
   "nbconvert_exporter": "python",
   "pygments_lexer": "ipython3",
   "version": "3.12.0"
  }
 },
 "nbformat": 4,
 "nbformat_minor": 2
}
